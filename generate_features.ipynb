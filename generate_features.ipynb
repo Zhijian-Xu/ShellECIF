{
 "cells": [
  {
"cell_type": "code",
"execution_count": null,
"outputs": [],
"metadata": {},
"source": [
"import os\n",
"from glob import glob\n",
"\n",
"def get_core_pdbids():\n",
"    base_path = '/home/pl/PDBBind/CASF-2016/coreset'\n",
"    core_dirs = glob(os.path.join(base_path, '*'))\n",
"    core_id = set([os.path.split(i)[-1] for i in core_dirs])\n",
"    return core_id\n",
"\n",
"def get_pdbids_from_dir(path):\n",
"    dirs = glob(os.path.join(path, '*'))\n",
"    ids = set([os.path.split(i)[-1] for i in dirs])\n",
"    return ids\n",
"\n",
"def get_9299_pdbids():\n",
"    with open('./9299pdbids.txt') as f:\n",
"        pdbids = f.readline().strip().split(', ')\n",
"    return set(pdbids)"
]
},
{
"cell_type": "code",
"execution_count": null,
"outputs": [],
"metadata": {},
"source": [
"def load_all_label_map():\n",
"    with open('/home/pl/PDBBind/v2020-other-PL/index/INDEX_general_PL_data.2020') as f:\n",
"        lines = f.readlines()\n",
"    affinity: Dict[str, str] = {}\n",
"    for line in lines:\n",
"        if line[0] != '#':\n",
"            affinity[line.split()[0]] = line.split()[3]\n",
"    return affinity\n",
"\n",
"def load_all_label_map_2019():\n",
"    with open('/home/pl/PDBBind/v2019-other-PL/index/INDEX_general_PL_data.2019') as f:\n",
"        lines = f.readlines()\n",
"    affinity: Dict[str, str] = {}\n",
"    for line in lines:\n",
"        if line[0] != '#':\n",
"            affinity[line.split()[0]] = line.split()[3]\n",
"    return affinity\n",
"\n",
"\n",
"def load_all_label_map_2016():\n",
"    with open('/home/pl/PDBBind/refined-2016/index/INDEX_general_PL_data.2016') as f:\n",
"        lines = f.readlines()\n",
"    affinity: Dict[str, str] = {}\n",
"    for line in lines:\n",
"        if line[0] != '#':\n",
"            affinity[line.split()[0]] = line.split()[3]\n",
"    return affinity"
]
},
{
"cell_type": "code",
"execution_count": null,
"outputs": [],
"metadata": {},
"source": [
"pdbids_9299 = get_9299_pdbids()\n",
"core_pdbids = get_core_pdbids()\n",
"refined2016 = get_pdbids_from_dir('/home/pl/PDBBind/refined-2016/')\n",
"refined2019 = get_pdbids_from_dir('/home/pl/PDBBind/refined-2019/')\n",
"# refined2020 = get_pdbids_from_dir('/home/pl/PDBBind/refined-2020/')\n",
"general2019 = get_pdbids_from_dir('/home/pl/PDBBind/v2019-other-PL/')\n",
"# general2020 = get_pdbids_from_dir('/home/pl/PDBBind/v2020-other-PL/')"
]
},
{
"cell_type": "code",
"execution_count": null,
"outputs": [],
"metadata": {},
"source": [
"all_map = load_all_label_map()\n",
"all_map_2019 = load_all_label_map_2019()\n",
"all_map_2016 = load_all_label_map_2016()\n",
"\n",
"not_fount_ids = []\n",
"for id in pdbids_9299:\n",
"    if id not in all_map and id not in all_map_2019 and id not in all_map_2016 :\n",
"        not_fount_ids.append(id)\n",
"        # 共有14个复合物，没有label"
]
},
{
"cell_type": "code",
"execution_count": null,
"outputs": [],
"metadata": {},
"source": [
"for id in not_fount_ids:\n",
"    if id in refined2016:\n",
"        print(2016, id)\n",
"    elif id in refined2019:\n",
"        print(2019, id)\n",
"    else:\n",
"        print('2019-general', id)"
]
},
{
"cell_type": "code",
"execution_count": null,
"outputs": [],
"metadata": {},
"source": [
"label_map9299 = {}\n",
"for id in pdbids_9299:\n",
"    affinity = 0.00\n",
"    if id in all_map:\n",
"        affinity = all_map[id]\n",
"    elif id in all_map_2016:\n",
"        affinity = all_map_2016[id]\n",
"    elif id in all_map_2019:\n",
"        affinity = all_map_2019[id]\n",
"    else:\n",
"        print('error')\n",
"        break\n",
"    label_map9299[id] = affinity"
]
},
{
"cell_type": "code",
"execution_count": null,
"outputs": [],
"metadata": {},
"source": [
"import pickle"
]
},
{
"cell_type": "code",
"execution_count": null,
"outputs": [],
"metadata": {},
"source": [
"with open ('./9299label_map.pkl', 'wb') as f:\n",
"    pickle.dump(label_map9299, f)"
]
},
{
"cell_type": "code",
"execution_count": null,
"outputs": [],
"metadata": {},
"source": [
"%cp './9299label_map.pkl' ../"
]
},
{
"cell_type": "markdown",
"metadata": {},
"source": [
"check 9299 pdbids all exists in refined-2016 and general-2020"
]
},
{
"cell_type": "code",
"execution_count": null,
"outputs": [],
"metadata": {},
"source": [
"from tqdm import tqdm\n",
"\n",
"general_9299 = []\n",
"refined_9299 = []\n",
"\n",
"count = 0\n",
"for id in tqdm(pdbids_9299):\n",
"    # if not(id in general2019 or id in refined2020 or id in refined2016):\n",
"    if not(id in general2019 or id in refined2019 or id in refined2016):\n",
"        count += 1\n",
"    if id in general2019:\n",
"        general_9299.append(id)\n",
"    else:\n",
"        refined_9299.append(id)\n",
"\n",
"# general-2020 + refined-2016 + refined-2020  =>  9299 pdbids\n",
"# general-2019 + refined-2016 + refined-2019  =>  9299 pdbids"
]
},
{
"cell_type": "code",
"execution_count": null,
"outputs": [],
"metadata": {},
"source": [
"# 9299 -> 4580(refined) + 4719(general)\n",
"\n",
"train_ids = set(refined_9299[1000:] + general_9299)\n",
"validation_ids = set(refined_9299[:1000])\n",
""
]
},
{
"cell_type": "markdown",
"metadata": {},
"source": [
"## featurize"
]
},
{
"cell_type": "code",
"execution_count": null,
"outputs": [],
"metadata": {},
"source": [
"import pickle\n",
"\n",
"with open('./train_onionECIF_features9299.pkl', 'rb') as f:\n",
"    train_features9299 = pickle.load(f)\n",
"\n",
"with open('./train_onionECIF_labels9299.pkl', 'rb') as f:\n",
"    train_labels9299 = pickle.load(f)\n",
"\n",
"with open('./validation_onionECIF_features9299.pkl', 'rb') as f:\n",
"    val_features9299 = pickle.load(f)\n",
"\n",
"with open('./validation_onionECIF_labels9299.pkl', 'rb') as f:\n",
"    val_labels9299 = pickle.load(f)\n",
"\n",
""
]
}

         ],
 "metadata": {
  "kernelspec": {
   "display_name": "Python 3",
   "language": "python",
   "name": "python3"
  },
  "language_info": {
   "codemirror_mode": {
    "name": "ipython",
    "version": 3
   },
   "file_extension": ".py",
   "mimetype": "text/x-python",
   "name": "python",
   "nbconvert_exporter": "python",
   "pygments_lexer": "ipython3",
   "version": "3.7.1"
  }
 },
 "nbformat": 4,
 "nbformat_minor": 2
}
